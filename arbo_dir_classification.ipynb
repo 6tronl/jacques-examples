{
 "cells": [
  {
   "attachments": {},
   "cell_type": "markdown",
   "metadata": {},
   "source": [
    "# Classify multiple Seatizen sessions all at once"
   ]
  },
  {
   "attachments": {},
   "cell_type": "markdown",
   "metadata": {},
   "source": [
    "### Import packages"
   ]
  },
  {
   "cell_type": "code",
   "execution_count": null,
   "metadata": {},
   "outputs": [],
   "source": [
    "from jacques.inference import predictor\n",
    "from jacques.inference import output\n",
    "import os\n",
    "import pandas as pd"
   ]
  },
  {
   "cell_type": "code",
   "execution_count": null,
   "metadata": {},
   "outputs": [],
   "source": [
    "# Optionally if all the sessions that you want to classify are in a single directory, you can list them by doing:\n",
    "directory_of_sessions = '/path/to/the/dir/containing/sessions/'\n",
    "ckpt_path='/path/to/checkpoint' \n",
    "list_of_sessions = os.listdir(directory_of_sessions)\n",
    "list_of_sessions = [os.path.join(directory_of_sessions, session) for session in list_of_sessions]"
   ]
  },
  {
   "cell_type": "code",
   "execution_count": null,
   "metadata": {},
   "outputs": [],
   "source": [
    "#Otherwise, just list them by hand\n",
    "list_of_sessions = ['/path/to/session_YYYY_MM_DD_location_device_nb', '/path/to/session_YYYY_MM_DD_location_device_nb']"
   ]
  },
  {
   "attachments": {},
   "cell_type": "markdown",
   "metadata": {},
   "source": [
    "### Predict images of all the sessions listed"
   ]
  },
  {
   "cell_type": "code",
   "execution_count": null,
   "metadata": {},
   "outputs": [],
   "source": [
    "results_of_all_sessions = pd.DataFrame(columns = ['dir', 'image', 'class'])\n",
    "for session in list_of_sessions:\n",
    "    results = predictor.classify_useless_images(folder_path=os.path.join(session, '/PROCESSED_DATA/FRAMES/'), ckpt_path=ckpt_path)\n",
    "    results_of_all_sessions = pd.concat([results_of_all_sessions, results], axis=0, ignore_index=True)\n",
    "\n",
    "results_of_all_sessions"
   ]
  },
  {
   "attachments": {},
   "cell_type": "markdown",
   "metadata": {},
   "source": [
    "### Optionally, display some images and their results"
   ]
  },
  {
   "cell_type": "code",
   "execution_count": null,
   "metadata": {},
   "outputs": [],
   "source": [
    "output.display_predictions(results_of_all_sessions, image_nb=5)"
   ]
  },
  {
   "attachments": {},
   "cell_type": "markdown",
   "metadata": {},
   "source": [
    "### Optionally, export the results in a csv format"
   ]
  },
  {
   "cell_type": "code",
   "execution_count": null,
   "metadata": {},
   "outputs": [],
   "source": [
    "results_of_all_sessions.to_csv('path/to/export/results.csv', index = False, header = True)"
   ]
  },
  {
   "attachments": {},
   "cell_type": "markdown",
   "metadata": {},
   "source": [
    "### Cut or copy useless or useful images keeping a track of the session predicted"
   ]
  },
  {
   "cell_type": "code",
   "execution_count": null,
   "metadata": {},
   "outputs": [],
   "source": [
    "for session in list_of_sessions:\n",
    "    session_name = os.path.basename(session)\n",
    "    output.move_images(results_of_all_sessions,\n",
    "            dest_path = f'/destination/path/directory/to/move/images/{session_name}/', # the images are moved to a subdirectory named after the session they come from\n",
    "            who_moves = 'useless',\n",
    "            copy_or_cut = 'cut'\n",
    "            )"
   ]
  }
 ],
 "metadata": {
  "kernelspec": {
   "display_name": "jacques_env",
   "language": "python",
   "name": "python3"
  },
  "language_info": {
   "name": "python",
   "version": "3.10.9"
  },
  "orig_nbformat": 4
 },
 "nbformat": 4,
 "nbformat_minor": 2
}
