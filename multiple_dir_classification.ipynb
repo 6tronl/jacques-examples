{
 "cells": [
  {
   "attachments": {},
   "cell_type": "markdown",
   "metadata": {},
   "source": [
    "# Classify multiple directories of images"
   ]
  },
  {
   "attachments": {},
   "cell_type": "markdown",
   "metadata": {},
   "source": [
    "### Import packages"
   ]
  },
  {
   "cell_type": "code",
   "execution_count": null,
   "metadata": {},
   "outputs": [],
   "source": [
    "from jacques.inference import predictor\n",
    "from jacques.inference import output\n",
    "import pandas as pd"
   ]
  },
  {
   "cell_type": "code",
   "execution_count": null,
   "metadata": {},
   "outputs": [],
   "source": [
    "ckpt_path='/path/to/checkpoint.ckpt' \n"
   ]
  },
  {
   "attachments": {},
   "cell_type": "markdown",
   "metadata": {},
   "source": [
    "### Make a list of directories of interest"
   ]
  },
  {
   "cell_type": "code",
   "execution_count": null,
   "metadata": {},
   "outputs": [],
   "source": [
    "list_of_dir = ['/path/to/your/image/folder/1/', '/path/to/your/image/folder/2/', '/path/to/your/image/folder/3/']"
   ]
  },
  {
   "attachments": {},
   "cell_type": "markdown",
   "metadata": {},
   "source": [
    "### Classify all the images"
   ]
  },
  {
   "attachments": {},
   "cell_type": "markdown",
   "metadata": {},
   "source": [
    "If you already have downloaded the last version of the checkpoint, set `download` to `False` and provide a `ckpt_path`. Otherwise, set `ckpt_path` to `None` and `download` to `True` : it will download the last checkpoint available at [![DOI](https://zenodo.org/badge/DOI/10.5281/zenodo.7822928.svg)](https://doi.org/10.5281/zenodo.7822928)\n",
    "Ths might takes several minutes to get it done. Be patient!"
   ]
  },
  {
   "cell_type": "code",
   "execution_count": null,
   "metadata": {},
   "outputs": [],
   "source": [
    "results_of_all_dir = pd.DataFrame(columns = ['dir', 'image', 'class'])\n",
    "for directory in list_of_dir:\n",
    "    results = predictor.classify_useless_images(folder_path=directory, download=False, ckpt_path=ckpt_path)\n",
    "    results_of_all_dir = pd.concat([results_of_all_dir, results], axis=0, ignore_index=True)\n",
    "\n",
    "results_of_all_dir"
   ]
  },
  {
   "attachments": {},
   "cell_type": "markdown",
   "metadata": {},
   "source": [
    "### Optionally, display some images and their results"
   ]
  },
  {
   "cell_type": "code",
   "execution_count": null,
   "metadata": {},
   "outputs": [],
   "source": [
    "output.display_predictions(results_of_all_dir, image_nb=5)"
   ]
  },
  {
   "attachments": {},
   "cell_type": "markdown",
   "metadata": {},
   "source": [
    "### Optionally, export the results in a csv format"
   ]
  },
  {
   "cell_type": "code",
   "execution_count": null,
   "metadata": {},
   "outputs": [],
   "source": [
    "results_of_all_dir.to_csv('path/to/export/results.csv', index = False, header = True)"
   ]
  },
  {
   "attachments": {},
   "cell_type": "markdown",
   "metadata": {},
   "source": [
    "### Cut or copy useless or useful images"
   ]
  },
  {
   "cell_type": "code",
   "execution_count": null,
   "metadata": {},
   "outputs": [],
   "source": [
    "output.move_images(results_of_all_dir,\n",
    "           dest_path = '/destination/path/directory/to/move/images/',\n",
    "           who_moves = 'useless',\n",
    "           copy_or_cut = 'cut'\n",
    "           )"
   ]
  }
 ],
 "metadata": {
  "kernelspec": {
   "display_name": "jacques_env",
   "language": "python",
   "name": "python3"
  },
  "language_info": {
   "codemirror_mode": {
    "name": "ipython",
    "version": 3
   },
   "file_extension": ".py",
   "mimetype": "text/x-python",
   "name": "python",
   "nbconvert_exporter": "python",
   "pygments_lexer": "ipython3",
   "version": "3.10.9"
  },
  "orig_nbformat": 4
 },
 "nbformat": 4,
 "nbformat_minor": 2
}
