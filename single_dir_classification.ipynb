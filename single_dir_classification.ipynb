{
 "cells": [
  {
   "attachments": {},
   "cell_type": "markdown",
   "metadata": {},
   "source": [
    "# Classify a single directory of images"
   ]
  },
  {
   "attachments": {},
   "cell_type": "markdown",
   "metadata": {},
   "source": [
    "### Import Jacques"
   ]
  },
  {
   "cell_type": "code",
   "execution_count": 1,
   "metadata": {},
   "outputs": [],
   "source": [
    "from jacques.inference import predictor\n",
    "from jacques.inference import output"
   ]
  },
  {
   "attachments": {},
   "cell_type": "markdown",
   "metadata": {},
   "source": [
    "### Classify an directory containing images (jpg or png images accepted)"
   ]
  },
  {
   "cell_type": "code",
   "execution_count": 2,
   "metadata": {},
   "outputs": [],
   "source": [
    "ckpt_path='/home/justine/Téléchargements/checkpoint.ckpt' "
   ]
  },
  {
   "cell_type": "code",
   "execution_count": 4,
   "metadata": {},
   "outputs": [
    {
     "name": "stderr",
     "output_type": "stream",
     "text": [
      "  0%|          | 0/25 [00:00<?, ?it/s]"
     ]
    },
    {
     "name": "stdout",
     "output_type": "stream",
     "text": [
      "./aqfd.ckpt\n"
     ]
    },
    {
     "name": "stderr",
     "output_type": "stream",
     "text": [
      "  0%|          | 0/25 [00:02<?, ?it/s]\n"
     ]
    },
    {
     "ename": "FileNotFoundError",
     "evalue": "[Errno 2] No such file or directory: '/home/justine/Téléchargements/checkpoint.ckpt'",
     "output_type": "error",
     "traceback": [
      "\u001b[0;31m---------------------------------------------------------------------------\u001b[0m",
      "\u001b[0;31mFileNotFoundError\u001b[0m                         Traceback (most recent call last)",
      "\u001b[1;32m/home/justine/Documents/seatizen/git/jacques-examples/single_dir_classification.ipynb Cell 6\u001b[0m in \u001b[0;36m<cell line: 1>\u001b[0;34m()\u001b[0m\n\u001b[0;32m----> <a href='vscode-notebook-cell:/home/justine/Documents/seatizen/git/jacques-examples/single_dir_classification.ipynb#W5sZmlsZQ%3D%3D?line=0'>1</a>\u001b[0m results \u001b[39m=\u001b[39m predictor\u001b[39m.\u001b[39;49mclassify_useless_images(folder_path\u001b[39m=\u001b[39;49m\u001b[39m'\u001b[39;49m\u001b[39m/home/justine/Documents/seatizen/useless_classification/images/\u001b[39;49m\u001b[39m'\u001b[39;49m, download\u001b[39m=\u001b[39;49m\u001b[39mTrue\u001b[39;49;00m, ckpt_path\u001b[39m=\u001b[39;49mckpt_path)\n\u001b[1;32m      <a href='vscode-notebook-cell:/home/justine/Documents/seatizen/git/jacques-examples/single_dir_classification.ipynb#W5sZmlsZQ%3D%3D?line=1'>2</a>\u001b[0m results\n",
      "File \u001b[0;32m~/miniconda3/envs/jacques_env/lib/python3.10/site-packages/jacques/inference/predictor.py:108\u001b[0m, in \u001b[0;36mclassify_useless_images\u001b[0;34m(folder_path, download, ckpt_path)\u001b[0m\n\u001b[1;32m    106\u001b[0m \u001b[39mfor\u001b[39;00m batch \u001b[39min\u001b[39;00m tqdm(predict_dataloader):\n\u001b[1;32m    107\u001b[0m     image_name, image \u001b[39m=\u001b[39m batch\n\u001b[0;32m--> 108\u001b[0m     prediction, label \u001b[39m=\u001b[39m predictor\u001b[39m.\u001b[39;49mpredict(image)\n\u001b[1;32m    109\u001b[0m     row \u001b[39m=\u001b[39m [folder_path, image_name[\u001b[39m0\u001b[39m], label]\n\u001b[1;32m    110\u001b[0m     df_length \u001b[39m=\u001b[39m \u001b[39mlen\u001b[39m(df)\n",
      "File \u001b[0;32m~/miniconda3/envs/jacques_env/lib/python3.10/site-packages/jacques/inference/predictor.py:57\u001b[0m, in \u001b[0;36mUselessImagesPredictor.predict\u001b[0;34m(self, images)\u001b[0m\n\u001b[1;32m     56\u001b[0m \u001b[39mdef\u001b[39;00m \u001b[39mpredict\u001b[39m(\u001b[39mself\u001b[39m, images):\n\u001b[0;32m---> 57\u001b[0m     \u001b[39mself\u001b[39m\u001b[39m.\u001b[39mmodel \u001b[39m=\u001b[39m \u001b[39mself\u001b[39;49m\u001b[39m.\u001b[39;49mload_checkpoint()\n\u001b[1;32m     58\u001b[0m     \u001b[39mself\u001b[39m\u001b[39m.\u001b[39mmodel\u001b[39m.\u001b[39meval()\n\u001b[1;32m     59\u001b[0m     \u001b[39mwith\u001b[39;00m torch\u001b[39m.\u001b[39mno_grad():\n",
      "File \u001b[0;32m~/miniconda3/envs/jacques_env/lib/python3.10/site-packages/jacques/inference/predictor.py:48\u001b[0m, in \u001b[0;36mUselessImagesPredictor.load_checkpoint\u001b[0;34m(self)\u001b[0m\n\u001b[1;32m     45\u001b[0m     latest_file \u001b[39m=\u001b[39m \u001b[39mmax\u001b[39m(checkpoints, key\u001b[39m=\u001b[39mos\u001b[39m.\u001b[39mpath\u001b[39m.\u001b[39mgetctime)\n\u001b[1;32m     46\u001b[0m     \u001b[39mprint\u001b[39m(latest_file) \n\u001b[0;32m---> 48\u001b[0m checkpoint_loaded \u001b[39m=\u001b[39m torch\u001b[39m.\u001b[39;49mload(\u001b[39mself\u001b[39;49m\u001b[39m.\u001b[39;49mcheckpoint, map_location\u001b[39m=\u001b[39;49m\u001b[39m'\u001b[39;49m\u001b[39mcuda:0\u001b[39;49m\u001b[39m'\u001b[39;49m \u001b[39mif\u001b[39;49;00m torch\u001b[39m.\u001b[39;49mcuda\u001b[39m.\u001b[39;49mis_available() \u001b[39melse\u001b[39;49;00m \u001b[39m'\u001b[39;49m\u001b[39mcpu\u001b[39;49m\u001b[39m'\u001b[39;49m)\n\u001b[1;32m     49\u001b[0m new_state_dict \u001b[39m=\u001b[39m OrderedDict()\n\u001b[1;32m     50\u001b[0m \u001b[39mfor\u001b[39;00m k, v \u001b[39min\u001b[39;00m checkpoint_loaded[\u001b[39m'\u001b[39m\u001b[39mstate_dict\u001b[39m\u001b[39m'\u001b[39m]\u001b[39m.\u001b[39mitems():\n",
      "File \u001b[0;32m~/.local/lib/python3.10/site-packages/torch/serialization.py:699\u001b[0m, in \u001b[0;36mload\u001b[0;34m(f, map_location, pickle_module, **pickle_load_args)\u001b[0m\n\u001b[1;32m    696\u001b[0m \u001b[39mif\u001b[39;00m \u001b[39m'\u001b[39m\u001b[39mencoding\u001b[39m\u001b[39m'\u001b[39m \u001b[39mnot\u001b[39;00m \u001b[39min\u001b[39;00m pickle_load_args\u001b[39m.\u001b[39mkeys():\n\u001b[1;32m    697\u001b[0m     pickle_load_args[\u001b[39m'\u001b[39m\u001b[39mencoding\u001b[39m\u001b[39m'\u001b[39m] \u001b[39m=\u001b[39m \u001b[39m'\u001b[39m\u001b[39mutf-8\u001b[39m\u001b[39m'\u001b[39m\n\u001b[0;32m--> 699\u001b[0m \u001b[39mwith\u001b[39;00m _open_file_like(f, \u001b[39m'\u001b[39;49m\u001b[39mrb\u001b[39;49m\u001b[39m'\u001b[39;49m) \u001b[39mas\u001b[39;00m opened_file:\n\u001b[1;32m    700\u001b[0m     \u001b[39mif\u001b[39;00m _is_zipfile(opened_file):\n\u001b[1;32m    701\u001b[0m         \u001b[39m# The zipfile reader is going to advance the current file position.\u001b[39;00m\n\u001b[1;32m    702\u001b[0m         \u001b[39m# If we want to actually tail call to torch.jit.load, we need to\u001b[39;00m\n\u001b[1;32m    703\u001b[0m         \u001b[39m# reset back to the original position.\u001b[39;00m\n\u001b[1;32m    704\u001b[0m         orig_position \u001b[39m=\u001b[39m opened_file\u001b[39m.\u001b[39mtell()\n",
      "File \u001b[0;32m~/.local/lib/python3.10/site-packages/torch/serialization.py:230\u001b[0m, in \u001b[0;36m_open_file_like\u001b[0;34m(name_or_buffer, mode)\u001b[0m\n\u001b[1;32m    228\u001b[0m \u001b[39mdef\u001b[39;00m \u001b[39m_open_file_like\u001b[39m(name_or_buffer, mode):\n\u001b[1;32m    229\u001b[0m     \u001b[39mif\u001b[39;00m _is_path(name_or_buffer):\n\u001b[0;32m--> 230\u001b[0m         \u001b[39mreturn\u001b[39;00m _open_file(name_or_buffer, mode)\n\u001b[1;32m    231\u001b[0m     \u001b[39melse\u001b[39;00m:\n\u001b[1;32m    232\u001b[0m         \u001b[39mif\u001b[39;00m \u001b[39m'\u001b[39m\u001b[39mw\u001b[39m\u001b[39m'\u001b[39m \u001b[39min\u001b[39;00m mode:\n",
      "File \u001b[0;32m~/.local/lib/python3.10/site-packages/torch/serialization.py:211\u001b[0m, in \u001b[0;36m_open_file.__init__\u001b[0;34m(self, name, mode)\u001b[0m\n\u001b[1;32m    210\u001b[0m \u001b[39mdef\u001b[39;00m \u001b[39m__init__\u001b[39m(\u001b[39mself\u001b[39m, name, mode):\n\u001b[0;32m--> 211\u001b[0m     \u001b[39msuper\u001b[39m(_open_file, \u001b[39mself\u001b[39m)\u001b[39m.\u001b[39m\u001b[39m__init__\u001b[39m(\u001b[39mopen\u001b[39;49m(name, mode))\n",
      "\u001b[0;31mFileNotFoundError\u001b[0m: [Errno 2] No such file or directory: '/home/justine/Téléchargements/checkpoint.ckpt'"
     ]
    }
   ],
   "source": [
    "results = predictor.classify_useless_images(folder_path='/home/justine/Documents/seatizen/useless_classification/images/', download=True, ckpt_path=ckpt_path)\n",
    "results"
   ]
  },
  {
   "cell_type": "code",
   "execution_count": 20,
   "metadata": {},
   "outputs": [
    {
     "data": {
      "text/plain": [
       "'./aqfd.ckpt'"
      ]
     },
     "execution_count": 20,
     "metadata": {},
     "output_type": "execute_result"
    }
   ],
   "source": [
    "import glob\n",
    "checkpoints = glob.glob('./*.ckpt')\n",
    "latest_file = max(checkpoints, key=os.path.getctime)\n",
    "latest_file"
   ]
  },
  {
   "cell_type": "code",
   "execution_count": null,
   "metadata": {},
   "outputs": [],
   "source": [
    "sessions = next(os.walk('./'))[1]\n",
    "if '.ipynb_checkpoints' in sessions:\n",
    "    sessions.remove('.ipynb_checkpoints')\n",
    "session = sessions[-1]"
   ]
  },
  {
   "cell_type": "code",
   "execution_count": 13,
   "metadata": {},
   "outputs": [
    {
     "name": "stderr",
     "output_type": "stream",
     "text": [
      "Title: Jacques model : a classifier of useless images for your seatizen sessions\n",
      "Keywords: deep learning, checkpoint, classification, Seatizen\n",
      "Publication date: 2023-04-12\n",
      "DOI: 10.5281/zenodo.7822928\n",
      "Total size: 120.1 MB\n",
      "\n",
      "Link: https://zenodo.org/api/files/27a4c0e0-0c00-41f0-ac82-261ace587dbf/model_checkpoint_v0.ckpt   size: 120.1 MB\n"
     ]
    },
    {
     "ename": "KeyboardInterrupt",
     "evalue": "",
     "output_type": "error",
     "traceback": [
      "\u001b[0;31m---------------------------------------------------------------------------\u001b[0m",
      "\u001b[0;31mKeyboardInterrupt\u001b[0m                         Traceback (most recent call last)",
      "\u001b[1;32m/home/justine/Documents/seatizen/git/jacques-examples/single_dir_classification.ipynb Cell 7\u001b[0m in \u001b[0;36m<cell line: 4>\u001b[0;34m()\u001b[0m\n\u001b[1;32m      <a href='vscode-notebook-cell:/home/justine/Documents/seatizen/git/jacques-examples/single_dir_classification.ipynb#X21sZmlsZQ%3D%3D?line=1'>2</a>\u001b[0m \u001b[39mimport\u001b[39;00m \u001b[39mos\u001b[39;00m\n\u001b[1;32m      <a href='vscode-notebook-cell:/home/justine/Documents/seatizen/git/jacques-examples/single_dir_classification.ipynb#X21sZmlsZQ%3D%3D?line=3'>4</a>\u001b[0m \u001b[39mwith\u001b[39;00m Popen([\u001b[39m\"\u001b[39m\u001b[39mzenodo_get\u001b[39m\u001b[39m\"\u001b[39m, \u001b[39m\"\u001b[39m\u001b[39m10.5281/zenodo.7822928\u001b[39m\u001b[39m\"\u001b[39m], stdout\u001b[39m=\u001b[39mPIPE, bufsize\u001b[39m=\u001b[39m\u001b[39m1\u001b[39m, universal_newlines\u001b[39m=\u001b[39m\u001b[39mTrue\u001b[39;00m) \u001b[39mas\u001b[39;00m p:\n\u001b[0;32m----> <a href='vscode-notebook-cell:/home/justine/Documents/seatizen/git/jacques-examples/single_dir_classification.ipynb#X21sZmlsZQ%3D%3D?line=4'>5</a>\u001b[0m     \u001b[39mfor\u001b[39;00m line \u001b[39min\u001b[39;00m p\u001b[39m.\u001b[39mstdout:\n\u001b[1;32m      <a href='vscode-notebook-cell:/home/justine/Documents/seatizen/git/jacques-examples/single_dir_classification.ipynb#X21sZmlsZQ%3D%3D?line=5'>6</a>\u001b[0m         \u001b[39mprint\u001b[39m(line, end\u001b[39m=\u001b[39m\u001b[39m'\u001b[39m\u001b[39m'\u001b[39m) \u001b[39m# process line here\u001b[39;00m\n\u001b[1;32m      <a href='vscode-notebook-cell:/home/justine/Documents/seatizen/git/jacques-examples/single_dir_classification.ipynb#X21sZmlsZQ%3D%3D?line=7'>8</a>\u001b[0m \u001b[39mif\u001b[39;00m p\u001b[39m.\u001b[39mreturncode \u001b[39m!=\u001b[39m \u001b[39m0\u001b[39m:\n",
      "\u001b[0;31mKeyboardInterrupt\u001b[0m: "
     ]
    }
   ],
   "source": [
    "from subprocess import Popen, PIPE, CalledProcessError\n",
    "import os\n",
    "\n",
    "with Popen([\"zenodo_get\", \"10.5281/zenodo.7822928\"], stdout=PIPE, bufsize=1, universal_newlines=True) as p:\n",
    "    for line in p.stdout:\n",
    "        print(line, end='') # process line here\n",
    "\n",
    "if p.returncode != 0:\n",
    "    raise CalledProcessError(p.returncode, p.args)"
   ]
  },
  {
   "attachments": {},
   "cell_type": "markdown",
   "metadata": {},
   "source": [
    "### Optionally, display some images and their results"
   ]
  },
  {
   "cell_type": "code",
   "execution_count": null,
   "metadata": {},
   "outputs": [],
   "source": [
    "output.display_predictions(results, image_nb=5)"
   ]
  },
  {
   "attachments": {},
   "cell_type": "markdown",
   "metadata": {},
   "source": [
    "### Optionally, export the results in a csv format"
   ]
  },
  {
   "cell_type": "code",
   "execution_count": null,
   "metadata": {},
   "outputs": [],
   "source": [
    "results.to_csv('path/to/export/results.csv', index = False, header = True)"
   ]
  },
  {
   "attachments": {},
   "cell_type": "markdown",
   "metadata": {},
   "source": [
    "### Cut or copy useless or useful images"
   ]
  },
  {
   "cell_type": "code",
   "execution_count": null,
   "metadata": {},
   "outputs": [],
   "source": [
    "output.move_images(results,\n",
    "           dest_path = '/destination/path/directory/to/move/images/',\n",
    "           who_moves = 'useless', \n",
    "           copy_or_cut = 'cut'\n",
    "           )"
   ]
  }
 ],
 "metadata": {
  "kernelspec": {
   "display_name": "useless_classif",
   "language": "python",
   "name": "python3"
  },
  "language_info": {
   "codemirror_mode": {
    "name": "ipython",
    "version": 3
   },
   "file_extension": ".py",
   "mimetype": "text/x-python",
   "name": "python",
   "nbconvert_exporter": "python",
   "pygments_lexer": "ipython3",
   "version": "3.10.9"
  },
  "orig_nbformat": 4
 },
 "nbformat": 4,
 "nbformat_minor": 2
}
